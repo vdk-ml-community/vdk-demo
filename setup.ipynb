{
 "metadata": {
  "kernelspec": {
   "name": "python3",
   "display_name": "Python 3 (ipykernel)",
   "language": "python"
  },
  "language_info": {
   "name": "python",
   "version": "3.7.12",
   "mimetype": "text/x-python",
   "codemirror_mode": {
    "name": "ipython",
    "version": 3
   },
   "pygments_lexer": "ipython3",
   "nbconvert_exporter": "python",
   "file_extension": ".py"
  }
 },
 "nbformat_minor": 5,
 "nbformat": 4,
 "cells": [
  {
   "cell_type": "markdown",
   "source": [
    "# Welcome to the Versatile Data Kit Demo Example!"
   ],
   "metadata": {},
   "id": "0ee62f01"
  },
  {
   "cell_type": "markdown",
   "source": [
    "## Workshop Steps\n",
    "Now that you have opened up the MyBinder environment and are reading this, you are already on the right track! Inside this environment,\n",
    "you will also find:\n",
    "* sample scripts: This is a folder containing the base of the scripts that you will be working with to finish the exercise. Please look for the triple exclamation points (!!!) as that means that you are being asked to write some code to get things to work!\n",
    "* README.md: This is just the README file you saw on the Github page.\n",
    "* requirements.txt: This is a list of the required libraries that were installed upon startup.\n",
    "* setup.ipynb: The file you are reading right now! Think of this as your home page.\n",
    "* Other system files - postBuild and start: No need to worry about these. They are needed for the setup."
   ],
   "metadata": {},
   "id": "eda79260"
  },
  {
   "cell_type": "markdown",
   "source": [
    "### Step 1: Explore VDK's Functionalities\n",
    "A simple command like that found in the setup.ipynb \"!vdk --help\" gives you all the information you need.\n"
   ],
   "metadata": {},
   "id": "073a7011"
  },
  {
   "cell_type": "code",
   "source": [
    "!vdk --help"
   ],
   "metadata": {},
   "execution_count": null,
   "outputs": [],
   "id": "2893be67"
  },
  {
   "cell_type": "markdown",
   "source": [
    "### Step 2: Create a Data Job\n",
    "Now that we have explored VDK's capabilities, let's create our data job. \n",
    "\n",
    "Keep in mind that we would like to have a sub-folder for the data job,so that our Streamlit script is outside of it and in the main directory. \n",
    "\n",
    "<font color='red'>**ATTENTION!**</font>\n",
    "Based on the information above, try creating a data job titled \"ingest\", followed your last name, your favorite sports team,  and your favorite drink. For example, \"ingest-userov\". You can chose any team name that you want, but please create the job at the home directory. This will create a sub-folder for the data job. The home directory is /home/jovyan.\n",
    "\n",
    "Here's an example code, but <font color='red'>**ATTENTION!**</font>, please uncomment and change \"<my-name-data-job>\" to your data job's name."
   ],
   "metadata": {},
   "id": "af82213d"
  },
  {
   "cell_type": "code",
   "source": [
    "!vdk create -n ingest-<unique-suffix> -t team-awesome -p /home/jovyan"
   ],
   "metadata": {},
   "execution_count": null,
   "outputs": [],
   "id": "31519980"
  },
  {
   "cell_type": "markdown",
   "source": [
    "### Step 3: Ingestion Job"
   ],
   "metadata": {},
   "id": "98bfd927"
  },
  {
   "cell_type": "markdown",
   "source": [
    "Now that you have created a data job, please go inside the subfolder and set up the structure of your data job. Here's the general idea."
   ],
   "metadata": {},
   "id": "caf90990"
  },
  {
   "cell_type": "markdown",
   "source": [
    "We want the data job to have four scripts:\n",
    "* We have a python file called aa_ingest_rates.py which we will use to ingestion Polish currency rates \n",
    "* config.ini is our configuraiton file \n",
    "* requirements.txt we place our dependecies \n",
    " \n"
   ],
   "metadata": {},
   "id": "a2004a67"
  },
  {
   "cell_type": "markdown",
   "source": [
    "When you create a data job, VDK automatically downloads some template scripts and files, so that you can get accustomed to the data job's structure. They are super helpful in getting you ready to run your own data jobs. However, let's go ahead and delete these for our example, since we won't be starting from scratch, but please check them out! Alternatively, you can explore the 'vdk create --no-sample' option, if you do not want these sample downloaded. Let's go ahead and delete the following files:\n",
    "* The SQL script: our example does not do anything with SQL.\n",
    "* The sample Python script: we already have moved four sample Python scripts, so we won't be needing this.\n",
    "* README.md: We already have a README for the entire example, so we can get rid of this.\n",
    "* requirements.txt: Each data job would need this file if the data job relies on external libraries that VDK does not have. In our case, MyBinder installed those upon startup, so we won't be needing this either.\n",
    "\n",
    "As such, please run the code below to delete them:\n",
    "\n",
    "<font color='red'>**ATTENTION!**</font> Please change `<my-name-data-job>` to the name of your data job."
   ],
   "metadata": {},
   "id": "b26ee513-8e8d-4ccc-86b6-ce0c5954c20a"
  },
  {
   "cell_type": "code",
   "source": [
    "! rm -rf ~/ingest-<unique-suffix>/*\n",
    "\n",
    "! mv jobs/ingest-currency-exchange-rate/* ~/ingest-<unique-suffix>/ "
   ],
   "metadata": {
    "trusted": true
   },
   "execution_count": null,
   "outputs": [],
   "id": "4a1aad92"
  },
  {
   "cell_type": "markdown",
   "source": [
    "Great! Now you're all set up with the data job:\n",
    "* You have created a data job.\n",
    "* You have sample the template files that you do not need.\n",
    "* You have moved the sample scripts we provided to the data job sub-folder.\n"
   ],
   "metadata": {},
   "id": "41e8c66a"
  },
  {
   "cell_type": "markdown",
   "source": [
    "Now let's run the ingest data job . But because we are using shared database with other participants let's name our table with unique suffix (similar to the data job) "
   ],
   "metadata": {},
   "id": "316b7242-8f5a-4358-a5b7-8b2dda90aeab"
  },
  {
   "cell_type": "code",
   "source": [
    "! vdk run ingest-<unique-suffix> --arguments '{\"destination_table\": \"exchange_rates_series_<unique-suffix>\"}'"
   ],
   "metadata": {
    "pycharm": {
     "name": "#%%\n"
    }
   },
   "id": "1542bdd7",
   "execution_count": null,
   "outputs": []
  },
  {
   "cell_type": "code",
   "source": [
    "! vdk sqlite-query -q \"select * from exchange_rates_series_<unique-suffix>\""
   ],
   "metadata": {
    "trusted": true
   },
   "execution_count": null,
   "outputs": [],
   "id": "7059d126-70b5-4fba-9cd3-5a022ca0f2c8"
  },
  {
   "cell_type": "markdown",
   "source": [
    "### Step 4: Processing job"
   ],
   "metadata": {},
   "id": "ea47ca4c"
  },
  {
   "cell_type": "markdown",
   "source": [
    "Please open up jobs/process-exchange-rate Inside it, you will see the code template already populated. Let's explore."
   ],
   "metadata": {},
   "id": "1f70291c"
  },
  {
   "cell_type": "markdown",
   "source": [
    "Then, we open up VDK's \"run\" function. This is how VDK knows that the following code will be part of its execution path, if you will.<br>\n",
    "In our case we set default variables. <br> \n",
    "Then we have 2 SQL files - to create table and to populate table<br>\n",
    "\n",
    "Let's create and populate our processing job: "
   ],
   "metadata": {},
   "id": "ea29d4d0"
  },
  {
   "cell_type": "code",
   "source": [
    "!vdk create -n process-<unique-suffix> -t team-awesome -p /home/jovyan"
   ],
   "metadata": {
    "trusted": true
   },
   "execution_count": null,
   "outputs": [],
   "id": "9028f9d4-d5e7-4e23-8b72-5cfa940755f4"
  },
  {
   "cell_type": "code",
   "source": [
    "! rm -rf ~/process-<unique-suffix>/*\n",
    "\n",
    "! mv jobs/process-exchange-rate/* ~/process-<unique-suffix>/ "
   ],
   "metadata": {},
   "execution_count": null,
   "outputs": [],
   "id": "04ae51d5-1522-4635-9027-38313c072c59"
  },
  {
   "cell_type": "code",
   "source": [
    "! vdk run process-<unique-suffix> --arguments '{\"source_table\": \"exchange_rates_series_<unique-suffix>\", \"destination_table\": \"aggregate_rates_<unique-suffix>\"}'"
   ],
   "metadata": {
    "trusted": true
   },
   "execution_count": null,
   "outputs": [],
   "id": "d60696e3"
  },
  {
   "cell_type": "code",
   "execution_count": null,
   "outputs": [],
   "source": [
    "! vdk sqlite-query -q \"select * from aggregate_rates_<unique-suffix>\""
   ],
   "metadata": {
    "collapsed": false,
    "pycharm": {
     "name": "#%%\n"
    }
   }
  },
  {
   "cell_type": "markdown",
   "source": [
    "### Step 5: Deploy"
   ],
   "metadata": {},
   "id": "a673786e"
  },
  {
   "cell_type": "markdown",
   "source": [
    "Since the correlation analysis that we perform is on a weekly basis, it makes sense to schedule our data job to run once per week. VDK allows the **automatic execution of data jobs by deploying them on a cloud server** which handles the regular execution as per schedule that the user defines. The deployment configurations are entered in the **\"config.ini\"** file that is required for deployment.  \n",
    "Let's open it up and examine the contents.\n",
    "\n",
    "In the first section [owner], we have specified the **team owning the data job**. In the second section [job] we defined the schedule of execution. It is in cron format (you can use [this website](https://crontab.guru/#*/20_*_*_*_*) to translate the cron schedule into a human-readable form). In this case, we want the schedule to run on the Monday of each week at 00:01am US time. Since VDK uses UTC time for schedule execution, the cron schedule indicates 05:01am UTC time. \n",
    "\n",
    "The config file could also include a [contacts] section which specifies whether any **notifications** are sent to specific emails upon job execution success, failure or deployment. In our case, we have left those empty.\n",
    "\n",
    "The last part of the config file contains the **VDK configuration settings** - the type of DB to which we will be ingesting, the DB location, schema and catalogue. \n",
    "\n",
    "For a full list and explanations of the configuration settings you could enter into the \"config.ini\" file of a data job, you can run the following command:"
   ],
   "metadata": {},
   "id": "c2d25b9d"
  },
  {
   "cell_type": "code",
   "source": [
    "!vdk config-help"
   ],
   "metadata": {},
   "execution_count": null,
   "outputs": [],
   "id": "771474d6-3ab8-4a9d-94d6-45627bc0ece7"
  },
  {
   "cell_type": "markdown",
   "source": [
    "\n",
    "Let's now deploy the data job!\n",
    "\n",
    "Run the command below, but first **remember to replace name-of-data-job with your data job name** after the \"-n\" and in the directory pathway."
   ],
   "metadata": {},
   "id": "00a59f72-f774-4bfe-8eed-9ad0fd13a2eb"
  },
  {
   "cell_type": "code",
   "source": [
    "!vdk deploy -n ingest-<unique-suffix> -t team-awesome  -r \"Initial deploy\" -p /home/jovyan/ingest-<unique-suffix>"
   ],
   "metadata": {
    "trusted": true
   },
   "execution_count": null,
   "outputs": [],
   "id": "1e54eb2d-7a7a-4259-b491-074ef9e38925"
  },
  {
   "cell_type": "code",
   "execution_count": null,
   "outputs": [],
   "source": [
    "!vdk deploy -n process-<unique-suffix> -t team-awesome  -r \"Initial deploy\" -p /home/jovyan/process-<unique-suffix>"
   ],
   "metadata": {
    "collapsed": false,
    "pycharm": {
     "name": "#%%\n"
    }
   }
  },
  {
   "cell_type": "code",
   "source": [
    "! vdk deploy --show -n ingest-<unique-suffix> -t team-awesome"
   ],
   "metadata": {},
   "execution_count": null,
   "outputs": [],
   "id": "030de733-89ce-4d27-aaba-eb6c89d6a575"
  },
  {
   "cell_type": "markdown",
   "source": [
    "We can now inspect the data job in Git: \n",
    "\n",
    "Go to https://github.com/vdk-ml-community/data-jobs\n",
    "\n",
    "And if there's an issue revert: "
   ],
   "metadata": {},
   "id": "9cd1d0a4-dd3f-42fe-8339-6fdf3193575d"
  },
  {
   "cell_type": "code",
   "source": [
    "! vdk deploy --update --job-version <old-version> -n ingest-<unique-suffix> -t team_awesome"
   ],
   "metadata": {
    "trusted": true
   },
   "execution_count": null,
   "outputs": [],
   "id": "627fbb2b-37cf-4a90-811a-ee2372951470"
  },
  {
   "cell_type": "markdown",
   "source": [
    "### Step 6: Extend (Anonymize)"
   ],
   "metadata": {},
   "id": "98475e4a-24fa-4c81-9929-0d0e778f3789"
  },
  {
   "cell_type": "markdown",
   "source": [
    "Go to https://github.com/vdk-ml-community/vdk-demo/tree/main/plugins/vdk-poc-anonymize"
   ],
   "metadata": {},
   "id": "13216fe9-d795-4c2c-9714-3f3780012e27"
  },
  {
   "cell_type": "code",
   "source": [
    "! pip install -e plugins/vdk-poc-anonymize"
   ],
   "metadata": {
    "trusted": true
   },
   "execution_count": null,
   "outputs": [],
   "id": "f1f94493-7230-40ca-ad47-b470edfc4e98"
  },
  {
   "cell_type": "code",
   "execution_count": null,
   "outputs": [],
   "source": [
    "! vdk run ingest-<unique-suffix> --arguments '{\"destination_table\": \"exchange_rates_series_<unique-suffix>\"}'"
   ],
   "metadata": {
    "collapsed": false,
    "pycharm": {
     "name": "#%%\n"
    }
   }
  },
  {
   "cell_type": "code",
   "execution_count": null,
   "outputs": [],
   "source": [
    "! vdk sqlite-query -q \"select * from exchange_rates_series_<unique-suffix>\""
   ],
   "metadata": {
    "collapsed": false,
    "pycharm": {
     "name": "#%%\n"
    }
   }
  },
  {
   "cell_type": "markdown",
   "source": [
    "### Step 7: Extend (SQL validation)"
   ],
   "metadata": {},
   "id": "2ecfc6af-3c82-4fd2-a0bc-deb1a9c331b4"
  },
  {
   "cell_type": "markdown",
   "source": [
    "Go to https://github.com/vdk-ml-community/vdk-demo/tree/main/plugins/vdk-validate"
   ],
   "metadata": {},
   "id": "cde0e7c1-008c-435b-b736-cffc82a486a5"
  },
  {
   "cell_type": "code",
   "source": [
    "! pip install -e plugins/vdk-validate"
   ],
   "metadata": {
    "trusted": true
   },
   "execution_count": null,
   "outputs": [],
   "id": "7f02b417-058a-40fb-9ab2-6a56adf97d4f"
  },
  {
   "cell_type": "code",
   "execution_count": null,
   "outputs": [],
   "source": [
    "! vdk run process-<unique-suffix> --arguments '{\"source_table\": \"exchange_rates_series_<unique-suffix>\", \"destination_table\": \"aggregate_rates_<unique-suffix>\"}'\n"
   ],
   "metadata": {
    "collapsed": false,
    "pycharm": {
     "name": "#%%\n"
    }
   }
  },
  {
   "cell_type": "code",
   "source": [],
   "metadata": {},
   "execution_count": null,
   "outputs": [],
   "id": "7b8d1711-478c-4a3f-830f-0f32853418ed"
  }
 ]
}